{
  "nbformat": 4,
  "nbformat_minor": 0,
  "metadata": {
    "colab": {
      "name": "Human Activity Recognition.ipynb",
      "provenance": [],
      "collapsed_sections": [
        "gEostyU6oKqe"
      ],
      "toc_visible": true,
      "authorship_tag": "ABX9TyP+wB270eRxbK7bBVhJEJ0o",
      "include_colab_link": true
    },
    "kernelspec": {
      "display_name": "Python 3",
      "name": "python3"
    },
    "accelerator": "GPU"
  },
  "cells": [
    {
      "cell_type": "markdown",
      "metadata": {
        "id": "view-in-github",
        "colab_type": "text"
      },
      "source": [
        "<a href=\"https://colab.research.google.com/github/sudoaccessdenied/Human-Activity-Recognition-lstm/blob/main/Human_Activity_Recognition.ipynb\" target=\"_parent\"><img src=\"https://colab.research.google.com/assets/colab-badge.svg\" alt=\"Open In Colab\"/></a>"
      ]
    },
    {
      "cell_type": "markdown",
      "metadata": {
        "id": "jt0vBqvfnvr6"
      },
      "source": [
        "# Human Activity Recognition Using Accelerometer"
      ]
    },
    {
      "cell_type": "markdown",
      "metadata": {
        "id": "gEostyU6oKqe"
      },
      "source": [
        "## Download Dataset"
      ]
    },
    {
      "cell_type": "code",
      "metadata": {
        "colab": {
          "base_uri": "https://localhost:8080/"
        },
        "id": "kRsEFEVlW7n7",
        "outputId": "2df9e499-8aaf-44e9-8a8a-47cfb602d04d"
      },
      "source": [
        "import urllib.request\n",
        "\n",
        "print('Downloading dataset')\n",
        "\n",
        "url = 'https://www.utwente.nl/en/eemcs/ps/dataset-folder/sensors-activity-recognition-dataset-shoaib.rar'\n",
        "urllib.request.urlretrieve(url, 'HAR_dataset.rar')\n",
        "\n",
        "print('Download completed')"
      ],
      "execution_count": 2,
      "outputs": [
        {
          "output_type": "stream",
          "text": [
            "Downloading dataset\n",
            "Download completed\n"
          ],
          "name": "stdout"
        }
      ]
    },
    {
      "cell_type": "markdown",
      "metadata": {
        "id": "Jx5ozr2zoTRL"
      },
      "source": [
        "# Download and install libraries"
      ]
    },
    {
      "cell_type": "code",
      "metadata": {
        "id": "VFlDi5SEZjZI",
        "colab": {
          "base_uri": "https://localhost:8080/",
          "height": 377
        },
        "outputId": "0a30ed86-df41-402f-90fb-9832c4c4b3e6"
      },
      "source": [
        "# !pip3 install tensorflow\n",
        "# !pip3 install tensorflow-gpu\n",
        "# !pip3 install keras\n",
        "# !pip3 install pandas\n",
        "# !pip3 install numpy\n",
        "\n",
        "!pip3 install pyunpack\n",
        "!pip3 install patool"
      ],
      "execution_count": 3,
      "outputs": [
        {
          "output_type": "stream",
          "text": [
            "Collecting pyunpack\n",
            "  Downloading https://files.pythonhosted.org/packages/83/29/020436b1d8e96e5f26fa282b9c3c13a3b456a36b9ea2edc87c5fed008369/pyunpack-0.2.2-py2.py3-none-any.whl\n",
            "Collecting entrypoint2\n",
            "  Downloading https://files.pythonhosted.org/packages/c2/ca/00c8767568924e5c2209da99b6abdeeed9d11cbae2a713d54d041b092a09/entrypoint2-0.2.3-py2.py3-none-any.whl\n",
            "Collecting easyprocess\n",
            "  Downloading https://files.pythonhosted.org/packages/48/3c/75573613641c90c6d094059ac28adb748560d99bd27ee6f80cce398f404e/EasyProcess-0.3-py2.py3-none-any.whl\n",
            "Collecting argparse\n",
            "  Downloading https://files.pythonhosted.org/packages/f2/94/3af39d34be01a24a6e65433d19e107099374224905f1e0cc6bbe1fd22a2f/argparse-1.4.0-py2.py3-none-any.whl\n",
            "Installing collected packages: argparse, entrypoint2, easyprocess, pyunpack\n",
            "Successfully installed argparse-1.4.0 easyprocess-0.3 entrypoint2-0.2.3 pyunpack-0.2.2\n"
          ],
          "name": "stdout"
        },
        {
          "output_type": "display_data",
          "data": {
            "application/vnd.colab-display-data+json": {
              "pip_warning": {
                "packages": [
                  "argparse"
                ]
              }
            }
          },
          "metadata": {
            "tags": []
          }
        },
        {
          "output_type": "stream",
          "text": [
            "Collecting patool\n",
            "\u001b[?25l  Downloading https://files.pythonhosted.org/packages/43/94/52243ddff508780dd2d8110964320ab4851134a55ab102285b46e740f76a/patool-1.12-py2.py3-none-any.whl (77kB)\n",
            "\r\u001b[K     |████▎                           | 10kB 22.8MB/s eta 0:00:01\r\u001b[K     |████████▌                       | 20kB 12.7MB/s eta 0:00:01\r\u001b[K     |████████████▊                   | 30kB 12.1MB/s eta 0:00:01\r\u001b[K     |█████████████████               | 40kB 11.5MB/s eta 0:00:01\r\u001b[K     |█████████████████████▏          | 51kB 7.6MB/s eta 0:00:01\r\u001b[K     |█████████████████████████▍      | 61kB 7.1MB/s eta 0:00:01\r\u001b[K     |█████████████████████████████▋  | 71kB 8.1MB/s eta 0:00:01\r\u001b[K     |████████████████████████████████| 81kB 5.6MB/s \n",
            "\u001b[?25hInstalling collected packages: patool\n",
            "Successfully installed patool-1.12\n"
          ],
          "name": "stdout"
        }
      ]
    },
    {
      "cell_type": "markdown",
      "metadata": {
        "id": "iUiCkgpzoowP"
      },
      "source": [
        "#Extract Dataset"
      ]
    },
    {
      "cell_type": "code",
      "metadata": {
        "id": "-agI6Y3yXZ63"
      },
      "source": [
        "\n",
        "from pyunpack import Archive\n",
        "Archive('HAR_dataset.rar').extractall('.')"
      ],
      "execution_count": 1,
      "outputs": []
    },
    {
      "cell_type": "markdown",
      "metadata": {
        "id": "UZodzE_JrRjU"
      },
      "source": [
        "# Import Libraries"
      ]
    },
    {
      "cell_type": "code",
      "metadata": {
        "id": "xOZ0Z3PFXrWe"
      },
      "source": [
        "import numpy as np\n",
        "import pandas as pd\n",
        "import matplotlib.pyplot as plt\n",
        "import os"
      ],
      "execution_count": 101,
      "outputs": []
    },
    {
      "cell_type": "markdown",
      "metadata": {
        "id": "LTlufCu6r_HE"
      },
      "source": [
        "# Load All Files"
      ]
    },
    {
      "cell_type": "code",
      "metadata": {
        "colab": {
          "base_uri": "https://localhost:8080/"
        },
        "id": "7CKvGeksZtJQ",
        "outputId": "b4087728-ddb3-4e12-9777-43ee1928e20f"
      },
      "source": [
        "path='DataSet/'\n",
        "files=[file for file in os.listdir(path) if file.endswith('.csv')]\n",
        "files"
      ],
      "execution_count": 102,
      "outputs": [
        {
          "output_type": "execute_result",
          "data": {
            "text/plain": [
              "['Participant_1.csv',\n",
              " 'Participant_5.csv',\n",
              " 'Participant_9.csv',\n",
              " 'Participant_8.csv',\n",
              " 'Participant_10.csv',\n",
              " 'Participant_2.csv',\n",
              " 'Participant_4.csv',\n",
              " 'Participant_7.csv',\n",
              " 'Participant_3.csv',\n",
              " 'Participant_6.csv']"
            ]
          },
          "metadata": {
            "tags": []
          },
          "execution_count": 102
        }
      ]
    },
    {
      "cell_type": "markdown",
      "metadata": {
        "id": "afJAXrUrsHx5"
      },
      "source": [
        "# Representing all the labels in graph"
      ]
    },
    {
      "cell_type": "code",
      "metadata": {
        "colab": {
          "base_uri": "https://localhost:8080/"
        },
        "id": "lauctMHXaFz6",
        "outputId": "d369bbc7-095e-482e-913b-0d56ed2e24cd"
      },
      "source": [
        "df = pd.read_csv(path+files[0],header=1)\n",
        "df.head()\n",
        "df['Unnamed: 69'].unique()"
      ],
      "execution_count": 103,
      "outputs": [
        {
          "output_type": "execute_result",
          "data": {
            "text/plain": [
              "array(['walking', 'standing', 'jogging', 'sitting', 'biking', 'upstairs',\n",
              "       'downstairs'], dtype=object)"
            ]
          },
          "metadata": {
            "tags": []
          },
          "execution_count": 103
        }
      ]
    },
    {
      "cell_type": "code",
      "metadata": {
        "colab": {
          "base_uri": "https://localhost:8080/",
          "height": 298
        },
        "id": "w_MfH9RxbnVV",
        "outputId": "6c14df1b-43d9-4434-9960-a7f39601a311"
      },
      "source": [
        "plt.plot(np.arange(0,100),df.Ax[df['Unnamed: 69']=='walking'][:100],label =\"X-axis\")\n",
        "plt.plot(np.arange(0,100),df.Ay[df['Unnamed: 69']=='walking'][:100],label =\"Y-axis\")\n",
        "plt.plot(np.arange(0,100),df.Az[df['Unnamed: 69']=='walking'][:100],label =\"Z-axis\")\n",
        "plt.title(\"Walking data\")\n",
        "plt.legend()"
      ],
      "execution_count": 104,
      "outputs": [
        {
          "output_type": "execute_result",
          "data": {
            "text/plain": [
              "<matplotlib.legend.Legend at 0x7fb48431c710>"
            ]
          },
          "metadata": {
            "tags": []
          },
          "execution_count": 104
        },
        {
          "output_type": "display_data",
          "data": {
            "image/png": "[encoded data removed]",
            "text/plain": [
              "<Figure size 432x288 with 1 Axes>"
            ]
          },
          "metadata": {
            "tags": [],
            "needs_background": "light"
          }
        }
      ]
    },
    {
      "cell_type": "code",
      "metadata": {
        "colab": {
          "base_uri": "https://localhost:8080/",
          "height": 298
        },
        "id": "Mkp1EbN5fDDW",
        "outputId": "e80b4dd4-0abf-4ff1-fe8f-89c867c3d3e2"
      },
      "source": [
        "plt.plot(np.arange(0,100),df.Ax[df['Unnamed: 69']=='standing'][:100],label =\"X-axis\")\n",
        "plt.plot(np.arange(0,100),df.Ay[df['Unnamed: 69']=='standing'][:100],label =\"Y-axis\")\n",
        "plt.plot(np.arange(0,100),df.Az[df['Unnamed: 69']=='standing'][:100],label =\"Z-axis\")\n",
        "plt.title(\"Standing Data\")\n",
        "plt.legend()"
      ],
      "execution_count": 105,
      "outputs": [
        {
          "output_type": "execute_result",
          "data": {
            "text/plain": [
              "<matplotlib.legend.Legend at 0x7fb4838f8358>"
            ]
          },
          "metadata": {
            "tags": []
          },
          "execution_count": 105
        },
        {
          "output_type": "display_data",
          "data": {
            "image/png": "[encoded data removed]",
            "text/plain": [
              "<Figure size 432x288 with 1 Axes>"
            ]
          },
          "metadata": {
            "tags": [],
            "needs_background": "light"
          }
        }
      ]
    },
    {
      "cell_type": "code",
      "metadata": {
        "colab": {
          "base_uri": "https://localhost:8080/",
          "height": 298
        },
        "id": "wXHb_pKkfwf0",
        "outputId": "8fe3c47f-49ae-4a0e-9b06-ae2340df395b"
      },
      "source": [
        "plt.plot(np.arange(0,100),df.Ax[df['Unnamed: 69']=='jogging'][:100],label =\"X-axis\")\n",
        "plt.plot(np.arange(0,100),df.Ay[df['Unnamed: 69']=='jogging'][:100],label =\"Y-axis\")\n",
        "plt.plot(np.arange(0,100),df.Az[df['Unnamed: 69']=='jogging'][:100],label =\"Z-axis\")\n",
        "plt.title(\"Jogging data\")\n",
        "plt.legend()"
      ],
      "execution_count": 106,
      "outputs": [
        {
          "output_type": "execute_result",
          "data": {
            "text/plain": [
              "<matplotlib.legend.Legend at 0x7fb4837eecf8>"
            ]
          },
          "metadata": {
            "tags": []
          },
          "execution_count": 106
        },
        {
          "output_type": "display_data",
          "data": {
            "image/png": "[encoded data removed]",
            "text/plain": [
              "<Figure size 432x288 with 1 Axes>"
            ]
          },
          "metadata": {
            "tags": [],
            "needs_background": "light"
          }
        }
      ]
    },
    {
      "cell_type": "code",
      "metadata": {
        "colab": {
          "base_uri": "https://localhost:8080/",
          "height": 298
        },
        "id": "CA47LFt_gmBl",
        "outputId": "b97e6266-46a8-4fdf-c06f-615612040547"
      },
      "source": [
        "plt.plot(np.arange(0,100),df.Ax[df['Unnamed: 69']=='sitting'][:100],label =\"X-axis\")\n",
        "plt.plot(np.arange(0,100),df.Ay[df['Unnamed: 69']=='sitting'][:100],label =\"Y-axis\")\n",
        "plt.plot(np.arange(0,100),df.Az[df['Unnamed: 69']=='sitting'][:100],label =\"Z-axis\")\n",
        "plt.title(\"Sitting data\")\n",
        "plt.legend()"
      ],
      "execution_count": 107,
      "outputs": [
        {
          "output_type": "execute_result",
          "data": {
            "text/plain": [
              "<matplotlib.legend.Legend at 0x7fb48399eb38>"
            ]
          },
          "metadata": {
            "tags": []
          },
          "execution_count": 107
        },
        {
          "output_type": "display_data",
          "data": {
            "image/png": "[encoded data removed]",
            "text/plain": [
              "<Figure size 432x288 with 1 Axes>"
            ]
          },
          "metadata": {
            "tags": [],
            "needs_background": "light"
          }
        }
      ]
    },
    {
      "cell_type": "markdown",
      "metadata": {
        "id": "ewqp0w3-hl1y"
      },
      "source": [
        "# Concatenation of all files by different volunteers"
      ]
    },
    {
      "cell_type": "code",
      "metadata": {
        "colab": {
          "base_uri": "https://localhost:8080/"
        },
        "id": "jDIihpjPhqjL",
        "outputId": "ebed4ef0-2041-47f9-c5a3-03ce34aa2800"
      },
      "source": [
        "df = pd.DataFrame()\n",
        "\n",
        "for file in files:\n",
        "  temp_df = pd.read_csv(path+file,header=1)\n",
        "  df= pd.concat([df,temp_df],sort=False)\n",
        "\n",
        "df.shape"
      ],
      "execution_count": 108,
      "outputs": [
        {
          "output_type": "execute_result",
          "data": {
            "text/plain": [
              "(630000, 70)"
            ]
          },
          "metadata": {
            "tags": []
          },
          "execution_count": 108
        }
      ]
    },
    {
      "cell_type": "code",
      "metadata": {
        "colab": {
          "base_uri": "https://localhost:8080/",
          "height": 241
        },
        "id": "nmkZd8pkiOE_",
        "outputId": "76184845-7f30-4108-ec64-556246759c84"
      },
      "source": [
        "df.head()"
      ],
      "execution_count": 109,
      "outputs": [
        {
          "output_type": "execute_result",
          "data": {
            "text/html": [
              "<div>\n",
              "<style scoped>\n",
              "    .dataframe tbody tr th:only-of-type {\n",
              "        vertical-align: middle;\n",
              "    }\n",
              "\n",
              "    .dataframe tbody tr th {\n",
              "        vertical-align: top;\n",
              "    }\n",
              "\n",
              "    .dataframe thead th {\n",
              "        text-align: right;\n",
              "    }\n",
              "</style>\n",
              "<table border=\"1\" class=\"dataframe\">\n",
              "  <thead>\n",
              "    <tr style=\"text-align: right;\">\n",
              "      <th></th>\n",
              "      <th>time_stamp</th>\n",
              "      <th>Ax</th>\n",
              "      <th>Ay</th>\n",
              "      <th>Az</th>\n",
              "      <th>Lx</th>\n",
              "      <th>Ly</th>\n",
              "      <th>Lz</th>\n",
              "      <th>Gx</th>\n",
              "      <th>Gy</th>\n",
              "      <th>Gz</th>\n",
              "      <th>Mx</th>\n",
              "      <th>My</th>\n",
              "      <th>Mz</th>\n",
              "      <th>Unnamed: 13</th>\n",
              "      <th>time_stamp.1</th>\n",
              "      <th>Ax.1</th>\n",
              "      <th>Ay.1</th>\n",
              "      <th>Az.1</th>\n",
              "      <th>Lx.1</th>\n",
              "      <th>Ly.1</th>\n",
              "      <th>Lz.1</th>\n",
              "      <th>Gx.1</th>\n",
              "      <th>Gy.1</th>\n",
              "      <th>Gz.1</th>\n",
              "      <th>Mx.1</th>\n",
              "      <th>My.1</th>\n",
              "      <th>Mz.1</th>\n",
              "      <th>Unnamed: 27</th>\n",
              "      <th>time_stamp.2</th>\n",
              "      <th>Ax.2</th>\n",
              "      <th>Ay.2</th>\n",
              "      <th>Az.2</th>\n",
              "      <th>Lx.2</th>\n",
              "      <th>Ly.2</th>\n",
              "      <th>Lz.2</th>\n",
              "      <th>Gx.2</th>\n",
              "      <th>Gy.2</th>\n",
              "      <th>Gz.2</th>\n",
              "      <th>Mx.2</th>\n",
              "      <th>My.2</th>\n",
              "      <th>Mz.2</th>\n",
              "      <th>Unnamed: 41</th>\n",
              "      <th>time_stamp.3</th>\n",
              "      <th>Ax.3</th>\n",
              "      <th>Ay.3</th>\n",
              "      <th>Az.3</th>\n",
              "      <th>Lx.3</th>\n",
              "      <th>Ly.3</th>\n",
              "      <th>Lz.3</th>\n",
              "      <th>Gx.3</th>\n",
              "      <th>Gy.3</th>\n",
              "      <th>Gz.3</th>\n",
              "      <th>Mx.3</th>\n",
              "      <th>My.3</th>\n",
              "      <th>Mz.3</th>\n",
              "      <th>Unnamed: 55</th>\n",
              "      <th>time_stamp.4</th>\n",
              "      <th>Ax.4</th>\n",
              "      <th>Ay.4</th>\n",
              "      <th>Az.4</th>\n",
              "      <th>Lx.4</th>\n",
              "      <th>Ly.4</th>\n",
              "      <th>Lz.4</th>\n",
              "      <th>Gx.4</th>\n",
              "      <th>Gy.4</th>\n",
              "      <th>Gz.4</th>\n",
              "      <th>Mx.4</th>\n",
              "      <th>My.4</th>\n",
              "      <th>Mz.4</th>\n",
              "      <th>Unnamed: 69</th>\n",
              "    </tr>\n",
              "  </thead>\n",
              "  <tbody>\n",
              "    <tr>\n",
              "      <th>0</th>\n",
              "      <td>1.390000e+12</td>\n",
              "      <td>-1.81150</td>\n",
              "      <td>-14.873</td>\n",
              "      <td>-1.34840</td>\n",
              "      <td>-1.26910</td>\n",
              "      <td>-5.1057</td>\n",
              "      <td>-0.66445</td>\n",
              "      <td>-0.53206</td>\n",
              "      <td>-3.18690</td>\n",
              "      <td>0.23976</td>\n",
              "      <td>12.72</td>\n",
              "      <td>40.74</td>\n",
              "      <td>-6.00</td>\n",
              "      <td>NaN</td>\n",
              "      <td>1.390000e+12</td>\n",
              "      <td>-1.19860</td>\n",
              "      <td>-13.852</td>\n",
              "      <td>3.7865</td>\n",
              "      <td>-1.76980</td>\n",
              "      <td>-4.0625</td>\n",
              "      <td>3.89850</td>\n",
              "      <td>-3.6255</td>\n",
              "      <td>1.07390</td>\n",
              "      <td>0.13622</td>\n",
              "      <td>18.84</td>\n",
              "      <td>55.92</td>\n",
              "      <td>-6.72</td>\n",
              "      <td>NaN</td>\n",
              "      <td>1.390000e+12</td>\n",
              "      <td>0.17706</td>\n",
              "      <td>-10.569</td>\n",
              "      <td>1.8251</td>\n",
              "      <td>-7.5051</td>\n",
              "      <td>-4.7736</td>\n",
              "      <td>-0.062476</td>\n",
              "      <td>-0.36652</td>\n",
              "      <td>1.27060</td>\n",
              "      <td>-0.52412</td>\n",
              "      <td>-30.30</td>\n",
              "      <td>31.08</td>\n",
              "      <td>3.96</td>\n",
              "      <td>NaN</td>\n",
              "      <td>1.390000e+12</td>\n",
              "      <td>2.79220</td>\n",
              "      <td>-12.5720</td>\n",
              "      <td>-4.3177</td>\n",
              "      <td>-0.098712</td>\n",
              "      <td>-3.385700</td>\n",
              "      <td>-2.46480</td>\n",
              "      <td>0.021075</td>\n",
              "      <td>1.02990</td>\n",
              "      <td>1.22690</td>\n",
              "      <td>-18.72</td>\n",
              "      <td>31.74</td>\n",
              "      <td>17.82</td>\n",
              "      <td>NaN</td>\n",
              "      <td>1.390000e+12</td>\n",
              "      <td>4.3177</td>\n",
              "      <td>-2.36990</td>\n",
              "      <td>-0.43585</td>\n",
              "      <td>-5.3574</td>\n",
              "      <td>-0.95749</td>\n",
              "      <td>0.318860</td>\n",
              "      <td>0.52565</td>\n",
              "      <td>-0.18815</td>\n",
              "      <td>0.285880</td>\n",
              "      <td>-22.20</td>\n",
              "      <td>6.48</td>\n",
              "      <td>4.56</td>\n",
              "      <td>walking</td>\n",
              "    </tr>\n",
              "    <tr>\n",
              "      <th>1</th>\n",
              "      <td>1.390000e+12</td>\n",
              "      <td>0.24517</td>\n",
              "      <td>-14.070</td>\n",
              "      <td>-0.84446</td>\n",
              "      <td>0.70147</td>\n",
              "      <td>-4.2969</td>\n",
              "      <td>-0.17199</td>\n",
              "      <td>-0.25229</td>\n",
              "      <td>-1.79660</td>\n",
              "      <td>0.40745</td>\n",
              "      <td>12.54</td>\n",
              "      <td>40.74</td>\n",
              "      <td>-6.78</td>\n",
              "      <td>NaN</td>\n",
              "      <td>1.390000e+12</td>\n",
              "      <td>-2.38360</td>\n",
              "      <td>-16.590</td>\n",
              "      <td>2.9965</td>\n",
              "      <td>-2.70250</td>\n",
              "      <td>-6.7890</td>\n",
              "      <td>2.86820</td>\n",
              "      <td>-3.4899</td>\n",
              "      <td>0.39034</td>\n",
              "      <td>0.40073</td>\n",
              "      <td>18.60</td>\n",
              "      <td>55.86</td>\n",
              "      <td>-6.06</td>\n",
              "      <td>NaN</td>\n",
              "      <td>1.390000e+12</td>\n",
              "      <td>0.16344</td>\n",
              "      <td>-12.190</td>\n",
              "      <td>2.0703</td>\n",
              "      <td>-7.3573</td>\n",
              "      <td>-6.2618</td>\n",
              "      <td>-0.042442</td>\n",
              "      <td>-0.54459</td>\n",
              "      <td>1.28070</td>\n",
              "      <td>0.34025</td>\n",
              "      <td>-31.02</td>\n",
              "      <td>29.88</td>\n",
              "      <td>3.36</td>\n",
              "      <td>NaN</td>\n",
              "      <td>1.390000e+12</td>\n",
              "      <td>2.38360</td>\n",
              "      <td>-10.9920</td>\n",
              "      <td>-4.6037</td>\n",
              "      <td>-0.404440</td>\n",
              "      <td>-1.774500</td>\n",
              "      <td>-2.74830</td>\n",
              "      <td>0.201890</td>\n",
              "      <td>0.53573</td>\n",
              "      <td>1.32280</td>\n",
              "      <td>-18.84</td>\n",
              "      <td>31.74</td>\n",
              "      <td>17.70</td>\n",
              "      <td>NaN</td>\n",
              "      <td>1.390000e+12</td>\n",
              "      <td>5.1213</td>\n",
              "      <td>-2.19290</td>\n",
              "      <td>-0.70826</td>\n",
              "      <td>-4.5352</td>\n",
              "      <td>-0.67629</td>\n",
              "      <td>0.081656</td>\n",
              "      <td>0.43616</td>\n",
              "      <td>0.16371</td>\n",
              "      <td>0.198230</td>\n",
              "      <td>-21.90</td>\n",
              "      <td>7.14</td>\n",
              "      <td>5.34</td>\n",
              "      <td>walking</td>\n",
              "    </tr>\n",
              "    <tr>\n",
              "      <th>2</th>\n",
              "      <td>1.390000e+12</td>\n",
              "      <td>-0.57205</td>\n",
              "      <td>-14.628</td>\n",
              "      <td>-1.75700</td>\n",
              "      <td>-0.21760</td>\n",
              "      <td>-4.8531</td>\n",
              "      <td>-1.05650</td>\n",
              "      <td>-1.04920</td>\n",
              "      <td>0.29138</td>\n",
              "      <td>0.29230</td>\n",
              "      <td>12.42</td>\n",
              "      <td>40.68</td>\n",
              "      <td>-8.10</td>\n",
              "      <td>NaN</td>\n",
              "      <td>1.390000e+12</td>\n",
              "      <td>-4.63090</td>\n",
              "      <td>-16.603</td>\n",
              "      <td>2.0703</td>\n",
              "      <td>-4.34550</td>\n",
              "      <td>-6.8081</td>\n",
              "      <td>1.68890</td>\n",
              "      <td>-3.3851</td>\n",
              "      <td>-1.99200</td>\n",
              "      <td>1.12280</td>\n",
              "      <td>18.72</td>\n",
              "      <td>55.80</td>\n",
              "      <td>-4.26</td>\n",
              "      <td>NaN</td>\n",
              "      <td>1.390000e+12</td>\n",
              "      <td>0.57205</td>\n",
              "      <td>-12.626</td>\n",
              "      <td>2.2474</td>\n",
              "      <td>-6.7655</td>\n",
              "      <td>-6.5138</td>\n",
              "      <td>0.017921</td>\n",
              "      <td>-0.70952</td>\n",
              "      <td>1.15820</td>\n",
              "      <td>0.99724</td>\n",
              "      <td>-31.26</td>\n",
              "      <td>29.22</td>\n",
              "      <td>3.24</td>\n",
              "      <td>NaN</td>\n",
              "      <td>1.390000e+12</td>\n",
              "      <td>1.56630</td>\n",
              "      <td>-9.0848</td>\n",
              "      <td>-4.5764</td>\n",
              "      <td>-1.003600</td>\n",
              "      <td>0.201530</td>\n",
              "      <td>-2.75150</td>\n",
              "      <td>0.287720</td>\n",
              "      <td>0.10049</td>\n",
              "      <td>1.20710</td>\n",
              "      <td>-19.02</td>\n",
              "      <td>31.68</td>\n",
              "      <td>17.52</td>\n",
              "      <td>NaN</td>\n",
              "      <td>1.390000e+12</td>\n",
              "      <td>5.6116</td>\n",
              "      <td>-2.12480</td>\n",
              "      <td>-1.26670</td>\n",
              "      <td>-4.0408</td>\n",
              "      <td>-0.55974</td>\n",
              "      <td>-0.523690</td>\n",
              "      <td>0.32284</td>\n",
              "      <td>0.43127</td>\n",
              "      <td>0.211970</td>\n",
              "      <td>-21.60</td>\n",
              "      <td>7.50</td>\n",
              "      <td>5.64</td>\n",
              "      <td>walking</td>\n",
              "    </tr>\n",
              "    <tr>\n",
              "      <th>3</th>\n",
              "      <td>1.390000e+12</td>\n",
              "      <td>-0.69464</td>\n",
              "      <td>-12.939</td>\n",
              "      <td>-3.09180</td>\n",
              "      <td>-0.32273</td>\n",
              "      <td>-3.1786</td>\n",
              "      <td>-2.21970</td>\n",
              "      <td>-2.37200</td>\n",
              "      <td>1.00820</td>\n",
              "      <td>0.34972</td>\n",
              "      <td>12.30</td>\n",
              "      <td>40.74</td>\n",
              "      <td>-8.52</td>\n",
              "      <td>NaN</td>\n",
              "      <td>1.390000e+12</td>\n",
              "      <td>-4.78070</td>\n",
              "      <td>-16.453</td>\n",
              "      <td>1.1577</td>\n",
              "      <td>-4.19540</td>\n",
              "      <td>-6.6731</td>\n",
              "      <td>0.74084</td>\n",
              "      <td>-3.1017</td>\n",
              "      <td>-3.04390</td>\n",
              "      <td>0.79138</td>\n",
              "      <td>18.84</td>\n",
              "      <td>55.62</td>\n",
              "      <td>-3.12</td>\n",
              "      <td>NaN</td>\n",
              "      <td>1.390000e+12</td>\n",
              "      <td>1.21220</td>\n",
              "      <td>-12.476</td>\n",
              "      <td>2.2882</td>\n",
              "      <td>-5.9716</td>\n",
              "      <td>-6.1990</td>\n",
              "      <td>0.016760</td>\n",
              "      <td>-0.78191</td>\n",
              "      <td>1.10200</td>\n",
              "      <td>1.33380</td>\n",
              "      <td>-31.44</td>\n",
              "      <td>28.80</td>\n",
              "      <td>3.24</td>\n",
              "      <td>NaN</td>\n",
              "      <td>1.390000e+12</td>\n",
              "      <td>-0.61292</td>\n",
              "      <td>-8.5263</td>\n",
              "      <td>-2.9284</td>\n",
              "      <td>-2.827100</td>\n",
              "      <td>0.859490</td>\n",
              "      <td>-1.14670</td>\n",
              "      <td>0.175930</td>\n",
              "      <td>-0.21441</td>\n",
              "      <td>0.90469</td>\n",
              "      <td>-18.96</td>\n",
              "      <td>31.86</td>\n",
              "      <td>17.22</td>\n",
              "      <td>NaN</td>\n",
              "      <td>1.390000e+12</td>\n",
              "      <td>6.0611</td>\n",
              "      <td>-1.47100</td>\n",
              "      <td>-2.47890</td>\n",
              "      <td>-3.5908</td>\n",
              "      <td>0.15795</td>\n",
              "      <td>-1.880200</td>\n",
              "      <td>0.20403</td>\n",
              "      <td>0.72846</td>\n",
              "      <td>0.164930</td>\n",
              "      <td>-21.12</td>\n",
              "      <td>8.40</td>\n",
              "      <td>6.12</td>\n",
              "      <td>walking</td>\n",
              "    </tr>\n",
              "    <tr>\n",
              "      <th>4</th>\n",
              "      <td>1.390000e+12</td>\n",
              "      <td>0.87170</td>\n",
              "      <td>-12.000</td>\n",
              "      <td>-1.56630</td>\n",
              "      <td>1.13740</td>\n",
              "      <td>-2.2390</td>\n",
              "      <td>-0.65476</td>\n",
              "      <td>-2.79010</td>\n",
              "      <td>0.65485</td>\n",
              "      <td>0.22724</td>\n",
              "      <td>12.24</td>\n",
              "      <td>40.80</td>\n",
              "      <td>-8.88</td>\n",
              "      <td>NaN</td>\n",
              "      <td>1.390000e+12</td>\n",
              "      <td>-0.92618</td>\n",
              "      <td>-12.190</td>\n",
              "      <td>-1.0624</td>\n",
              "      <td>-0.18116</td>\n",
              "      <td>-2.4144</td>\n",
              "      <td>-1.28500</td>\n",
              "      <td>-2.7587</td>\n",
              "      <td>-4.46020</td>\n",
              "      <td>0.69364</td>\n",
              "      <td>19.38</td>\n",
              "      <td>55.44</td>\n",
              "      <td>-0.84</td>\n",
              "      <td>NaN</td>\n",
              "      <td>1.390000e+12</td>\n",
              "      <td>2.24740</td>\n",
              "      <td>-11.387</td>\n",
              "      <td>1.9886</td>\n",
              "      <td>-4.6603</td>\n",
              "      <td>-4.8230</td>\n",
              "      <td>-0.329740</td>\n",
              "      <td>-0.82436</td>\n",
              "      <td>0.90561</td>\n",
              "      <td>2.15600</td>\n",
              "      <td>-31.56</td>\n",
              "      <td>28.32</td>\n",
              "      <td>3.30</td>\n",
              "      <td>NaN</td>\n",
              "      <td>1.390000e+12</td>\n",
              "      <td>-1.18500</td>\n",
              "      <td>-9.3436</td>\n",
              "      <td>-2.2337</td>\n",
              "      <td>-3.209900</td>\n",
              "      <td>0.085583</td>\n",
              "      <td>-0.45569</td>\n",
              "      <td>-0.033292</td>\n",
              "      <td>-0.48625</td>\n",
              "      <td>0.60720</td>\n",
              "      <td>-18.84</td>\n",
              "      <td>32.10</td>\n",
              "      <td>17.04</td>\n",
              "      <td>NaN</td>\n",
              "      <td>1.390000e+12</td>\n",
              "      <td>7.7091</td>\n",
              "      <td>-0.77636</td>\n",
              "      <td>-3.54130</td>\n",
              "      <td>-1.9450</td>\n",
              "      <td>0.85796</td>\n",
              "      <td>-2.995300</td>\n",
              "      <td>0.09896</td>\n",
              "      <td>0.94379</td>\n",
              "      <td>0.064752</td>\n",
              "      <td>-20.94</td>\n",
              "      <td>8.70</td>\n",
              "      <td>6.30</td>\n",
              "      <td>walking</td>\n",
              "    </tr>\n",
              "  </tbody>\n",
              "</table>\n",
              "</div>"
            ],
            "text/plain": [
              "     time_stamp       Ax      Ay       Az  ...   Mx.4  My.4  Mz.4  Unnamed: 69\n",
              "0  1.390000e+12 -1.81150 -14.873 -1.34840  ... -22.20  6.48  4.56      walking\n",
              "1  1.390000e+12  0.24517 -14.070 -0.84446  ... -21.90  7.14  5.34      walking\n",
              "2  1.390000e+12 -0.57205 -14.628 -1.75700  ... -21.60  7.50  5.64      walking\n",
              "3  1.390000e+12 -0.69464 -12.939 -3.09180  ... -21.12  8.40  6.12      walking\n",
              "4  1.390000e+12  0.87170 -12.000 -1.56630  ... -20.94  8.70  6.30      walking\n",
              "\n",
              "[5 rows x 70 columns]"
            ]
          },
          "metadata": {
            "tags": []
          },
          "execution_count": 109
        }
      ]
    },
    {
      "cell_type": "markdown",
      "metadata": {
        "id": "ED4rnYKTtdCX"
      },
      "source": [
        "# Extracting left pocket and right pocket data excluding magnetometer data"
      ]
    },
    {
      "cell_type": "code",
      "metadata": {
        "colab": {
          "base_uri": "https://localhost:8080/",
          "height": 204
        },
        "id": "TehG8VPMiSY8",
        "outputId": "fd290472-68eb-4569-b9e5-c9c8929c1af3"
      },
      "source": [
        "leftPocket = df[df.columns[1:10]]\n",
        "leftPocket.head()"
      ],
      "execution_count": 110,
      "outputs": [
        {
          "output_type": "execute_result",
          "data": {
            "text/html": [
              "<div>\n",
              "<style scoped>\n",
              "    .dataframe tbody tr th:only-of-type {\n",
              "        vertical-align: middle;\n",
              "    }\n",
              "\n",
              "    .dataframe tbody tr th {\n",
              "        vertical-align: top;\n",
              "    }\n",
              "\n",
              "    .dataframe thead th {\n",
              "        text-align: right;\n",
              "    }\n",
              "</style>\n",
              "<table border=\"1\" class=\"dataframe\">\n",
              "  <thead>\n",
              "    <tr style=\"text-align: right;\">\n",
              "      <th></th>\n",
              "      <th>Ax</th>\n",
              "      <th>Ay</th>\n",
              "      <th>Az</th>\n",
              "      <th>Lx</th>\n",
              "      <th>Ly</th>\n",
              "      <th>Lz</th>\n",
              "      <th>Gx</th>\n",
              "      <th>Gy</th>\n",
              "      <th>Gz</th>\n",
              "    </tr>\n",
              "  </thead>\n",
              "  <tbody>\n",
              "    <tr>\n",
              "      <th>0</th>\n",
              "      <td>-1.81150</td>\n",
              "      <td>-14.873</td>\n",
              "      <td>-1.34840</td>\n",
              "      <td>-1.26910</td>\n",
              "      <td>-5.1057</td>\n",
              "      <td>-0.66445</td>\n",
              "      <td>-0.53206</td>\n",
              "      <td>-3.18690</td>\n",
              "      <td>0.23976</td>\n",
              "    </tr>\n",
              "    <tr>\n",
              "      <th>1</th>\n",
              "      <td>0.24517</td>\n",
              "      <td>-14.070</td>\n",
              "      <td>-0.84446</td>\n",
              "      <td>0.70147</td>\n",
              "      <td>-4.2969</td>\n",
              "      <td>-0.17199</td>\n",
              "      <td>-0.25229</td>\n",
              "      <td>-1.79660</td>\n",
              "      <td>0.40745</td>\n",
              "    </tr>\n",
              "    <tr>\n",
              "      <th>2</th>\n",
              "      <td>-0.57205</td>\n",
              "      <td>-14.628</td>\n",
              "      <td>-1.75700</td>\n",
              "      <td>-0.21760</td>\n",
              "      <td>-4.8531</td>\n",
              "      <td>-1.05650</td>\n",
              "      <td>-1.04920</td>\n",
              "      <td>0.29138</td>\n",
              "      <td>0.29230</td>\n",
              "    </tr>\n",
              "    <tr>\n",
              "      <th>3</th>\n",
              "      <td>-0.69464</td>\n",
              "      <td>-12.939</td>\n",
              "      <td>-3.09180</td>\n",
              "      <td>-0.32273</td>\n",
              "      <td>-3.1786</td>\n",
              "      <td>-2.21970</td>\n",
              "      <td>-2.37200</td>\n",
              "      <td>1.00820</td>\n",
              "      <td>0.34972</td>\n",
              "    </tr>\n",
              "    <tr>\n",
              "      <th>4</th>\n",
              "      <td>0.87170</td>\n",
              "      <td>-12.000</td>\n",
              "      <td>-1.56630</td>\n",
              "      <td>1.13740</td>\n",
              "      <td>-2.2390</td>\n",
              "      <td>-0.65476</td>\n",
              "      <td>-2.79010</td>\n",
              "      <td>0.65485</td>\n",
              "      <td>0.22724</td>\n",
              "    </tr>\n",
              "  </tbody>\n",
              "</table>\n",
              "</div>"
            ],
            "text/plain": [
              "        Ax      Ay       Az       Lx  ...       Lz       Gx       Gy       Gz\n",
              "0 -1.81150 -14.873 -1.34840 -1.26910  ... -0.66445 -0.53206 -3.18690  0.23976\n",
              "1  0.24517 -14.070 -0.84446  0.70147  ... -0.17199 -0.25229 -1.79660  0.40745\n",
              "2 -0.57205 -14.628 -1.75700 -0.21760  ... -1.05650 -1.04920  0.29138  0.29230\n",
              "3 -0.69464 -12.939 -3.09180 -0.32273  ... -2.21970 -2.37200  1.00820  0.34972\n",
              "4  0.87170 -12.000 -1.56630  1.13740  ... -0.65476 -2.79010  0.65485  0.22724\n",
              "\n",
              "[5 rows x 9 columns]"
            ]
          },
          "metadata": {
            "tags": []
          },
          "execution_count": 110
        }
      ]
    },
    {
      "cell_type": "code",
      "metadata": {
        "colab": {
          "base_uri": "https://localhost:8080/",
          "height": 204
        },
        "id": "eayB1qKWjT8N",
        "outputId": "595330f5-6729-4267-d4bc-ecaee0bc6f54"
      },
      "source": [
        "rightPocket = df[df.columns[15:24]]\n",
        "rightPocket.columns = leftPocket.columns\n",
        "rightPocket.head()"
      ],
      "execution_count": 111,
      "outputs": [
        {
          "output_type": "execute_result",
          "data": {
            "text/html": [
              "<div>\n",
              "<style scoped>\n",
              "    .dataframe tbody tr th:only-of-type {\n",
              "        vertical-align: middle;\n",
              "    }\n",
              "\n",
              "    .dataframe tbody tr th {\n",
              "        vertical-align: top;\n",
              "    }\n",
              "\n",
              "    .dataframe thead th {\n",
              "        text-align: right;\n",
              "    }\n",
              "</style>\n",
              "<table border=\"1\" class=\"dataframe\">\n",
              "  <thead>\n",
              "    <tr style=\"text-align: right;\">\n",
              "      <th></th>\n",
              "      <th>Ax</th>\n",
              "      <th>Ay</th>\n",
              "      <th>Az</th>\n",
              "      <th>Lx</th>\n",
              "      <th>Ly</th>\n",
              "      <th>Lz</th>\n",
              "      <th>Gx</th>\n",
              "      <th>Gy</th>\n",
              "      <th>Gz</th>\n",
              "    </tr>\n",
              "  </thead>\n",
              "  <tbody>\n",
              "    <tr>\n",
              "      <th>0</th>\n",
              "      <td>-1.19860</td>\n",
              "      <td>-13.852</td>\n",
              "      <td>3.7865</td>\n",
              "      <td>-1.76980</td>\n",
              "      <td>-4.0625</td>\n",
              "      <td>3.89850</td>\n",
              "      <td>-3.6255</td>\n",
              "      <td>1.07390</td>\n",
              "      <td>0.13622</td>\n",
              "    </tr>\n",
              "    <tr>\n",
              "      <th>1</th>\n",
              "      <td>-2.38360</td>\n",
              "      <td>-16.590</td>\n",
              "      <td>2.9965</td>\n",
              "      <td>-2.70250</td>\n",
              "      <td>-6.7890</td>\n",
              "      <td>2.86820</td>\n",
              "      <td>-3.4899</td>\n",
              "      <td>0.39034</td>\n",
              "      <td>0.40073</td>\n",
              "    </tr>\n",
              "    <tr>\n",
              "      <th>2</th>\n",
              "      <td>-4.63090</td>\n",
              "      <td>-16.603</td>\n",
              "      <td>2.0703</td>\n",
              "      <td>-4.34550</td>\n",
              "      <td>-6.8081</td>\n",
              "      <td>1.68890</td>\n",
              "      <td>-3.3851</td>\n",
              "      <td>-1.99200</td>\n",
              "      <td>1.12280</td>\n",
              "    </tr>\n",
              "    <tr>\n",
              "      <th>3</th>\n",
              "      <td>-4.78070</td>\n",
              "      <td>-16.453</td>\n",
              "      <td>1.1577</td>\n",
              "      <td>-4.19540</td>\n",
              "      <td>-6.6731</td>\n",
              "      <td>0.74084</td>\n",
              "      <td>-3.1017</td>\n",
              "      <td>-3.04390</td>\n",
              "      <td>0.79138</td>\n",
              "    </tr>\n",
              "    <tr>\n",
              "      <th>4</th>\n",
              "      <td>-0.92618</td>\n",
              "      <td>-12.190</td>\n",
              "      <td>-1.0624</td>\n",
              "      <td>-0.18116</td>\n",
              "      <td>-2.4144</td>\n",
              "      <td>-1.28500</td>\n",
              "      <td>-2.7587</td>\n",
              "      <td>-4.46020</td>\n",
              "      <td>0.69364</td>\n",
              "    </tr>\n",
              "  </tbody>\n",
              "</table>\n",
              "</div>"
            ],
            "text/plain": [
              "        Ax      Ay      Az       Lx      Ly       Lz      Gx       Gy       Gz\n",
              "0 -1.19860 -13.852  3.7865 -1.76980 -4.0625  3.89850 -3.6255  1.07390  0.13622\n",
              "1 -2.38360 -16.590  2.9965 -2.70250 -6.7890  2.86820 -3.4899  0.39034  0.40073\n",
              "2 -4.63090 -16.603  2.0703 -4.34550 -6.8081  1.68890 -3.3851 -1.99200  1.12280\n",
              "3 -4.78070 -16.453  1.1577 -4.19540 -6.6731  0.74084 -3.1017 -3.04390  0.79138\n",
              "4 -0.92618 -12.190 -1.0624 -0.18116 -2.4144 -1.28500 -2.7587 -4.46020  0.69364"
            ]
          },
          "metadata": {
            "tags": []
          },
          "execution_count": 111
        }
      ]
    },
    {
      "cell_type": "markdown",
      "metadata": {
        "id": "3T41R240tvZI"
      },
      "source": [
        "#Concatenating left and right pocket data"
      ]
    },
    {
      "cell_type": "code",
      "metadata": {
        "colab": {
          "base_uri": "https://localhost:8080/",
          "height": 204
        },
        "id": "2topEPkwkZWN",
        "outputId": "ca6e58e7-240e-4286-9a6e-078b27b7ecaa"
      },
      "source": [
        "train_df = pd.concat([leftPocket,rightPocket],sort= False)\n",
        "train_df.head()"
      ],
      "execution_count": 112,
      "outputs": [
        {
          "output_type": "execute_result",
          "data": {
            "text/html": [
              "<div>\n",
              "<style scoped>\n",
              "    .dataframe tbody tr th:only-of-type {\n",
              "        vertical-align: middle;\n",
              "    }\n",
              "\n",
              "    .dataframe tbody tr th {\n",
              "        vertical-align: top;\n",
              "    }\n",
              "\n",
              "    .dataframe thead th {\n",
              "        text-align: right;\n",
              "    }\n",
              "</style>\n",
              "<table border=\"1\" class=\"dataframe\">\n",
              "  <thead>\n",
              "    <tr style=\"text-align: right;\">\n",
              "      <th></th>\n",
              "      <th>Ax</th>\n",
              "      <th>Ay</th>\n",
              "      <th>Az</th>\n",
              "      <th>Lx</th>\n",
              "      <th>Ly</th>\n",
              "      <th>Lz</th>\n",
              "      <th>Gx</th>\n",
              "      <th>Gy</th>\n",
              "      <th>Gz</th>\n",
              "    </tr>\n",
              "  </thead>\n",
              "  <tbody>\n",
              "    <tr>\n",
              "      <th>0</th>\n",
              "      <td>-1.81150</td>\n",
              "      <td>-14.873</td>\n",
              "      <td>-1.34840</td>\n",
              "      <td>-1.26910</td>\n",
              "      <td>-5.1057</td>\n",
              "      <td>-0.66445</td>\n",
              "      <td>-0.53206</td>\n",
              "      <td>-3.18690</td>\n",
              "      <td>0.23976</td>\n",
              "    </tr>\n",
              "    <tr>\n",
              "      <th>1</th>\n",
              "      <td>0.24517</td>\n",
              "      <td>-14.070</td>\n",
              "      <td>-0.84446</td>\n",
              "      <td>0.70147</td>\n",
              "      <td>-4.2969</td>\n",
              "      <td>-0.17199</td>\n",
              "      <td>-0.25229</td>\n",
              "      <td>-1.79660</td>\n",
              "      <td>0.40745</td>\n",
              "    </tr>\n",
              "    <tr>\n",
              "      <th>2</th>\n",
              "      <td>-0.57205</td>\n",
              "      <td>-14.628</td>\n",
              "      <td>-1.75700</td>\n",
              "      <td>-0.21760</td>\n",
              "      <td>-4.8531</td>\n",
              "      <td>-1.05650</td>\n",
              "      <td>-1.04920</td>\n",
              "      <td>0.29138</td>\n",
              "      <td>0.29230</td>\n",
              "    </tr>\n",
              "    <tr>\n",
              "      <th>3</th>\n",
              "      <td>-0.69464</td>\n",
              "      <td>-12.939</td>\n",
              "      <td>-3.09180</td>\n",
              "      <td>-0.32273</td>\n",
              "      <td>-3.1786</td>\n",
              "      <td>-2.21970</td>\n",
              "      <td>-2.37200</td>\n",
              "      <td>1.00820</td>\n",
              "      <td>0.34972</td>\n",
              "    </tr>\n",
              "    <tr>\n",
              "      <th>4</th>\n",
              "      <td>0.87170</td>\n",
              "      <td>-12.000</td>\n",
              "      <td>-1.56630</td>\n",
              "      <td>1.13740</td>\n",
              "      <td>-2.2390</td>\n",
              "      <td>-0.65476</td>\n",
              "      <td>-2.79010</td>\n",
              "      <td>0.65485</td>\n",
              "      <td>0.22724</td>\n",
              "    </tr>\n",
              "  </tbody>\n",
              "</table>\n",
              "</div>"
            ],
            "text/plain": [
              "        Ax      Ay       Az       Lx  ...       Lz       Gx       Gy       Gz\n",
              "0 -1.81150 -14.873 -1.34840 -1.26910  ... -0.66445 -0.53206 -3.18690  0.23976\n",
              "1  0.24517 -14.070 -0.84446  0.70147  ... -0.17199 -0.25229 -1.79660  0.40745\n",
              "2 -0.57205 -14.628 -1.75700 -0.21760  ... -1.05650 -1.04920  0.29138  0.29230\n",
              "3 -0.69464 -12.939 -3.09180 -0.32273  ... -2.21970 -2.37200  1.00820  0.34972\n",
              "4  0.87170 -12.000 -1.56630  1.13740  ... -0.65476 -2.79010  0.65485  0.22724\n",
              "\n",
              "[5 rows x 9 columns]"
            ]
          },
          "metadata": {
            "tags": []
          },
          "execution_count": 112
        }
      ]
    },
    {
      "cell_type": "code",
      "metadata": {
        "colab": {
          "base_uri": "https://localhost:8080/"
        },
        "id": "nvBburgvkbK-",
        "outputId": "4ef24b7e-b94c-4595-f605-5b95ae3ecec8"
      },
      "source": [
        "train_df.shape"
      ],
      "execution_count": 113,
      "outputs": [
        {
          "output_type": "execute_result",
          "data": {
            "text/plain": [
              "(1260000, 9)"
            ]
          },
          "metadata": {
            "tags": []
          },
          "execution_count": 113
        }
      ]
    },
    {
      "cell_type": "markdown",
      "metadata": {
        "id": "NytBlkNSlIag"
      },
      "source": [
        "# Restoring labels in dataframe"
      ]
    },
    {
      "cell_type": "code",
      "metadata": {
        "colab": {
          "base_uri": "https://localhost:8080/",
          "height": 419
        },
        "id": "o_p2Q33BlMYp",
        "outputId": "72a45d6a-174b-419b-990d-e72f3cb72f67"
      },
      "source": [
        "labels = pd.concat([df['Unnamed: 69'],df['Unnamed: 69']],sort=False)\n",
        "labels.column = [\"Activity\"]\n",
        "train_df['Activity'] = labels\n",
        "train_df"
      ],
      "execution_count": 114,
      "outputs": [
        {
          "output_type": "execute_result",
          "data": {
            "text/html": [
              "<div>\n",
              "<style scoped>\n",
              "    .dataframe tbody tr th:only-of-type {\n",
              "        vertical-align: middle;\n",
              "    }\n",
              "\n",
              "    .dataframe tbody tr th {\n",
              "        vertical-align: top;\n",
              "    }\n",
              "\n",
              "    .dataframe thead th {\n",
              "        text-align: right;\n",
              "    }\n",
              "</style>\n",
              "<table border=\"1\" class=\"dataframe\">\n",
              "  <thead>\n",
              "    <tr style=\"text-align: right;\">\n",
              "      <th></th>\n",
              "      <th>Ax</th>\n",
              "      <th>Ay</th>\n",
              "      <th>Az</th>\n",
              "      <th>Lx</th>\n",
              "      <th>Ly</th>\n",
              "      <th>Lz</th>\n",
              "      <th>Gx</th>\n",
              "      <th>Gy</th>\n",
              "      <th>Gz</th>\n",
              "      <th>Activity</th>\n",
              "    </tr>\n",
              "  </thead>\n",
              "  <tbody>\n",
              "    <tr>\n",
              "      <th>0</th>\n",
              "      <td>-1.81150</td>\n",
              "      <td>-14.8730</td>\n",
              "      <td>-1.34840</td>\n",
              "      <td>-1.26910</td>\n",
              "      <td>-5.1057</td>\n",
              "      <td>-0.66445</td>\n",
              "      <td>-0.53206</td>\n",
              "      <td>-3.18690</td>\n",
              "      <td>0.239760</td>\n",
              "      <td>walking</td>\n",
              "    </tr>\n",
              "    <tr>\n",
              "      <th>1</th>\n",
              "      <td>0.24517</td>\n",
              "      <td>-14.0700</td>\n",
              "      <td>-0.84446</td>\n",
              "      <td>0.70147</td>\n",
              "      <td>-4.2969</td>\n",
              "      <td>-0.17199</td>\n",
              "      <td>-0.25229</td>\n",
              "      <td>-1.79660</td>\n",
              "      <td>0.407450</td>\n",
              "      <td>walking</td>\n",
              "    </tr>\n",
              "    <tr>\n",
              "      <th>2</th>\n",
              "      <td>-0.57205</td>\n",
              "      <td>-14.6280</td>\n",
              "      <td>-1.75700</td>\n",
              "      <td>-0.21760</td>\n",
              "      <td>-4.8531</td>\n",
              "      <td>-1.05650</td>\n",
              "      <td>-1.04920</td>\n",
              "      <td>0.29138</td>\n",
              "      <td>0.292300</td>\n",
              "      <td>walking</td>\n",
              "    </tr>\n",
              "    <tr>\n",
              "      <th>3</th>\n",
              "      <td>-0.69464</td>\n",
              "      <td>-12.9390</td>\n",
              "      <td>-3.09180</td>\n",
              "      <td>-0.32273</td>\n",
              "      <td>-3.1786</td>\n",
              "      <td>-2.21970</td>\n",
              "      <td>-2.37200</td>\n",
              "      <td>1.00820</td>\n",
              "      <td>0.349720</td>\n",
              "      <td>walking</td>\n",
              "    </tr>\n",
              "    <tr>\n",
              "      <th>4</th>\n",
              "      <td>0.87170</td>\n",
              "      <td>-12.0000</td>\n",
              "      <td>-1.56630</td>\n",
              "      <td>1.13740</td>\n",
              "      <td>-2.2390</td>\n",
              "      <td>-0.65476</td>\n",
              "      <td>-2.79010</td>\n",
              "      <td>0.65485</td>\n",
              "      <td>0.227240</td>\n",
              "      <td>walking</td>\n",
              "    </tr>\n",
              "    <tr>\n",
              "      <th>...</th>\n",
              "      <td>...</td>\n",
              "      <td>...</td>\n",
              "      <td>...</td>\n",
              "      <td>...</td>\n",
              "      <td>...</td>\n",
              "      <td>...</td>\n",
              "      <td>...</td>\n",
              "      <td>...</td>\n",
              "      <td>...</td>\n",
              "      <td>...</td>\n",
              "    </tr>\n",
              "    <tr>\n",
              "      <th>62995</th>\n",
              "      <td>-1.53910</td>\n",
              "      <td>-3.0373</td>\n",
              "      <td>-0.89894</td>\n",
              "      <td>-0.46261</td>\n",
              "      <td>5.3391</td>\n",
              "      <td>4.08570</td>\n",
              "      <td>-0.34728</td>\n",
              "      <td>0.87109</td>\n",
              "      <td>0.262370</td>\n",
              "      <td>downstairs</td>\n",
              "    </tr>\n",
              "    <tr>\n",
              "      <th>62996</th>\n",
              "      <td>-1.53910</td>\n",
              "      <td>-4.6990</td>\n",
              "      <td>1.41650</td>\n",
              "      <td>-0.30650</td>\n",
              "      <td>3.9026</td>\n",
              "      <td>5.96230</td>\n",
              "      <td>0.27978</td>\n",
              "      <td>-0.10354</td>\n",
              "      <td>0.066890</td>\n",
              "      <td>downstairs</td>\n",
              "    </tr>\n",
              "    <tr>\n",
              "      <th>62997</th>\n",
              "      <td>-1.74340</td>\n",
              "      <td>-14.2610</td>\n",
              "      <td>-4.87610</td>\n",
              "      <td>-0.51863</td>\n",
              "      <td>-5.4284</td>\n",
              "      <td>-0.79386</td>\n",
              "      <td>-0.52687</td>\n",
              "      <td>-0.35613</td>\n",
              "      <td>-0.003971</td>\n",
              "      <td>downstairs</td>\n",
              "    </tr>\n",
              "    <tr>\n",
              "      <th>62998</th>\n",
              "      <td>2.60150</td>\n",
              "      <td>-17.5430</td>\n",
              "      <td>0.47671</td>\n",
              "      <td>3.31990</td>\n",
              "      <td>-8.3374</td>\n",
              "      <td>3.77980</td>\n",
              "      <td>-0.53420</td>\n",
              "      <td>-0.52168</td>\n",
              "      <td>-0.743730</td>\n",
              "      <td>downstairs</td>\n",
              "    </tr>\n",
              "    <tr>\n",
              "      <th>62999</th>\n",
              "      <td>5.59800</td>\n",
              "      <td>-19.4910</td>\n",
              "      <td>5.14850</td>\n",
              "      <td>5.34750</td>\n",
              "      <td>-9.8120</td>\n",
              "      <td>6.70760</td>\n",
              "      <td>-0.41997</td>\n",
              "      <td>0.27703</td>\n",
              "      <td>-0.271530</td>\n",
              "      <td>downstairs</td>\n",
              "    </tr>\n",
              "  </tbody>\n",
              "</table>\n",
              "<p>1260000 rows × 10 columns</p>\n",
              "</div>"
            ],
            "text/plain": [
              "            Ax       Ay       Az  ...       Gy        Gz    Activity\n",
              "0     -1.81150 -14.8730 -1.34840  ... -3.18690  0.239760     walking\n",
              "1      0.24517 -14.0700 -0.84446  ... -1.79660  0.407450     walking\n",
              "2     -0.57205 -14.6280 -1.75700  ...  0.29138  0.292300     walking\n",
              "3     -0.69464 -12.9390 -3.09180  ...  1.00820  0.349720     walking\n",
              "4      0.87170 -12.0000 -1.56630  ...  0.65485  0.227240     walking\n",
              "...        ...      ...      ...  ...      ...       ...         ...\n",
              "62995 -1.53910  -3.0373 -0.89894  ...  0.87109  0.262370  downstairs\n",
              "62996 -1.53910  -4.6990  1.41650  ... -0.10354  0.066890  downstairs\n",
              "62997 -1.74340 -14.2610 -4.87610  ... -0.35613 -0.003971  downstairs\n",
              "62998  2.60150 -17.5430  0.47671  ... -0.52168 -0.743730  downstairs\n",
              "62999  5.59800 -19.4910  5.14850  ...  0.27703 -0.271530  downstairs\n",
              "\n",
              "[1260000 rows x 10 columns]"
            ]
          },
          "metadata": {
            "tags": []
          },
          "execution_count": 114
        }
      ]
    },
    {
      "cell_type": "code",
      "metadata": {
        "colab": {
          "base_uri": "https://localhost:8080/"
        },
        "id": "ViPDDrIclxFk",
        "outputId": "2727548a-69f3-48c6-c191-6a4e6b267731"
      },
      "source": [
        "train_df.Activity.unique()"
      ],
      "execution_count": 115,
      "outputs": [
        {
          "output_type": "execute_result",
          "data": {
            "text/plain": [
              "array(['walking', 'standing', 'jogging', 'sitting', 'biking', 'upstairs',\n",
              "       'downstairs', 'upsatirs'], dtype=object)"
            ]
          },
          "metadata": {
            "tags": []
          },
          "execution_count": 115
        }
      ]
    },
    {
      "cell_type": "markdown",
      "metadata": {
        "id": "i8rTI1e5uB_g"
      },
      "source": [
        "# Correcting the labels"
      ]
    },
    {
      "cell_type": "code",
      "metadata": {
        "colab": {
          "base_uri": "https://localhost:8080/"
        },
        "id": "D4P-h2R3mB6R",
        "outputId": "74bab84c-8f84-40a3-8be3-d75784a2e357"
      },
      "source": [
        "train_df.Activity.loc[(train_df.Activity == 'upsatirs')] = 'upstairs'\n",
        "train_df.Activity.unique()"
      ],
      "execution_count": 116,
      "outputs": [
        {
          "output_type": "stream",
          "text": [
            "/usr/local/lib/python3.6/dist-packages/pandas/core/indexing.py:670: SettingWithCopyWarning: \n",
            "A value is trying to be set on a copy of a slice from a DataFrame\n",
            "\n",
            "See the caveats in the documentation: https://pandas.pydata.org/pandas-docs/stable/user_guide/indexing.html#returning-a-view-versus-a-copy\n",
            "  iloc._setitem_with_indexer(indexer, value)\n"
          ],
          "name": "stderr"
        },
        {
          "output_type": "execute_result",
          "data": {
            "text/plain": [
              "array(['walking', 'standing', 'jogging', 'sitting', 'biking', 'upstairs',\n",
              "       'downstairs'], dtype=object)"
            ]
          },
          "metadata": {
            "tags": []
          },
          "execution_count": 116
        }
      ]
    },
    {
      "cell_type": "markdown",
      "metadata": {
        "id": "uZdHXXe5uPVI"
      },
      "source": [
        "#Export our Training Data"
      ]
    },
    {
      "cell_type": "code",
      "metadata": {
        "id": "7tXdGBCeqjXT"
      },
      "source": [
        "train_df.to_csv('dataset.csv')"
      ],
      "execution_count": 117,
      "outputs": []
    },
    {
      "cell_type": "markdown",
      "metadata": {
        "id": "C8gP2x6dxAPx"
      },
      "source": [
        "# Preprocessing The data"
      ]
    },
    {
      "cell_type": "code",
      "metadata": {
        "id": "gdIBAyezxHYs"
      },
      "source": [
        "x_train = train_df[train_df.columns[:9]]\n",
        "y_train = train_df[train_df.columns[9:10]]"
      ],
      "execution_count": 118,
      "outputs": []
    },
    {
      "cell_type": "code",
      "metadata": {
        "colab": {
          "base_uri": "https://localhost:8080/",
          "height": 204
        },
        "id": "o9duun02ydTJ",
        "outputId": "44ff8b5d-9d83-4734-884a-5475a0f627b0"
      },
      "source": [
        "x_train.head()"
      ],
      "execution_count": 119,
      "outputs": [
        {
          "output_type": "execute_result",
          "data": {
            "text/html": [
              "<div>\n",
              "<style scoped>\n",
              "    .dataframe tbody tr th:only-of-type {\n",
              "        vertical-align: middle;\n",
              "    }\n",
              "\n",
              "    .dataframe tbody tr th {\n",
              "        vertical-align: top;\n",
              "    }\n",
              "\n",
              "    .dataframe thead th {\n",
              "        text-align: right;\n",
              "    }\n",
              "</style>\n",
              "<table border=\"1\" class=\"dataframe\">\n",
              "  <thead>\n",
              "    <tr style=\"text-align: right;\">\n",
              "      <th></th>\n",
              "      <th>Ax</th>\n",
              "      <th>Ay</th>\n",
              "      <th>Az</th>\n",
              "      <th>Lx</th>\n",
              "      <th>Ly</th>\n",
              "      <th>Lz</th>\n",
              "      <th>Gx</th>\n",
              "      <th>Gy</th>\n",
              "      <th>Gz</th>\n",
              "    </tr>\n",
              "  </thead>\n",
              "  <tbody>\n",
              "    <tr>\n",
              "      <th>0</th>\n",
              "      <td>-1.81150</td>\n",
              "      <td>-14.873</td>\n",
              "      <td>-1.34840</td>\n",
              "      <td>-1.26910</td>\n",
              "      <td>-5.1057</td>\n",
              "      <td>-0.66445</td>\n",
              "      <td>-0.53206</td>\n",
              "      <td>-3.18690</td>\n",
              "      <td>0.23976</td>\n",
              "    </tr>\n",
              "    <tr>\n",
              "      <th>1</th>\n",
              "      <td>0.24517</td>\n",
              "      <td>-14.070</td>\n",
              "      <td>-0.84446</td>\n",
              "      <td>0.70147</td>\n",
              "      <td>-4.2969</td>\n",
              "      <td>-0.17199</td>\n",
              "      <td>-0.25229</td>\n",
              "      <td>-1.79660</td>\n",
              "      <td>0.40745</td>\n",
              "    </tr>\n",
              "    <tr>\n",
              "      <th>2</th>\n",
              "      <td>-0.57205</td>\n",
              "      <td>-14.628</td>\n",
              "      <td>-1.75700</td>\n",
              "      <td>-0.21760</td>\n",
              "      <td>-4.8531</td>\n",
              "      <td>-1.05650</td>\n",
              "      <td>-1.04920</td>\n",
              "      <td>0.29138</td>\n",
              "      <td>0.29230</td>\n",
              "    </tr>\n",
              "    <tr>\n",
              "      <th>3</th>\n",
              "      <td>-0.69464</td>\n",
              "      <td>-12.939</td>\n",
              "      <td>-3.09180</td>\n",
              "      <td>-0.32273</td>\n",
              "      <td>-3.1786</td>\n",
              "      <td>-2.21970</td>\n",
              "      <td>-2.37200</td>\n",
              "      <td>1.00820</td>\n",
              "      <td>0.34972</td>\n",
              "    </tr>\n",
              "    <tr>\n",
              "      <th>4</th>\n",
              "      <td>0.87170</td>\n",
              "      <td>-12.000</td>\n",
              "      <td>-1.56630</td>\n",
              "      <td>1.13740</td>\n",
              "      <td>-2.2390</td>\n",
              "      <td>-0.65476</td>\n",
              "      <td>-2.79010</td>\n",
              "      <td>0.65485</td>\n",
              "      <td>0.22724</td>\n",
              "    </tr>\n",
              "  </tbody>\n",
              "</table>\n",
              "</div>"
            ],
            "text/plain": [
              "        Ax      Ay       Az       Lx  ...       Lz       Gx       Gy       Gz\n",
              "0 -1.81150 -14.873 -1.34840 -1.26910  ... -0.66445 -0.53206 -3.18690  0.23976\n",
              "1  0.24517 -14.070 -0.84446  0.70147  ... -0.17199 -0.25229 -1.79660  0.40745\n",
              "2 -0.57205 -14.628 -1.75700 -0.21760  ... -1.05650 -1.04920  0.29138  0.29230\n",
              "3 -0.69464 -12.939 -3.09180 -0.32273  ... -2.21970 -2.37200  1.00820  0.34972\n",
              "4  0.87170 -12.000 -1.56630  1.13740  ... -0.65476 -2.79010  0.65485  0.22724\n",
              "\n",
              "[5 rows x 9 columns]"
            ]
          },
          "metadata": {
            "tags": []
          },
          "execution_count": 119
        }
      ]
    },
    {
      "cell_type": "code",
      "metadata": {
        "colab": {
          "base_uri": "https://localhost:8080/",
          "height": 204
        },
        "id": "QTBVZAx8yhOu",
        "outputId": "b4151a55-dde3-4f79-dbe6-cc3b6cf62c49"
      },
      "source": [
        "y_train.head()"
      ],
      "execution_count": 120,
      "outputs": [
        {
          "output_type": "execute_result",
          "data": {
            "text/html": [
              "<div>\n",
              "<style scoped>\n",
              "    .dataframe tbody tr th:only-of-type {\n",
              "        vertical-align: middle;\n",
              "    }\n",
              "\n",
              "    .dataframe tbody tr th {\n",
              "        vertical-align: top;\n",
              "    }\n",
              "\n",
              "    .dataframe thead th {\n",
              "        text-align: right;\n",
              "    }\n",
              "</style>\n",
              "<table border=\"1\" class=\"dataframe\">\n",
              "  <thead>\n",
              "    <tr style=\"text-align: right;\">\n",
              "      <th></th>\n",
              "      <th>Activity</th>\n",
              "    </tr>\n",
              "  </thead>\n",
              "  <tbody>\n",
              "    <tr>\n",
              "      <th>0</th>\n",
              "      <td>walking</td>\n",
              "    </tr>\n",
              "    <tr>\n",
              "      <th>1</th>\n",
              "      <td>walking</td>\n",
              "    </tr>\n",
              "    <tr>\n",
              "      <th>2</th>\n",
              "      <td>walking</td>\n",
              "    </tr>\n",
              "    <tr>\n",
              "      <th>3</th>\n",
              "      <td>walking</td>\n",
              "    </tr>\n",
              "    <tr>\n",
              "      <th>4</th>\n",
              "      <td>walking</td>\n",
              "    </tr>\n",
              "  </tbody>\n",
              "</table>\n",
              "</div>"
            ],
            "text/plain": [
              "  Activity\n",
              "0  walking\n",
              "1  walking\n",
              "2  walking\n",
              "3  walking\n",
              "4  walking"
            ]
          },
          "metadata": {
            "tags": []
          },
          "execution_count": 120
        }
      ]
    },
    {
      "cell_type": "code",
      "metadata": {
        "colab": {
          "base_uri": "https://localhost:8080/"
        },
        "id": "7r39PXFFyljm",
        "outputId": "10976ad9-7351-4d7c-91b4-ac038c83c993"
      },
      "source": [
        "y_train.Activity.unique()"
      ],
      "execution_count": 121,
      "outputs": [
        {
          "output_type": "execute_result",
          "data": {
            "text/plain": [
              "array(['walking', 'standing', 'jogging', 'sitting', 'biking', 'upstairs',\n",
              "       'downstairs'], dtype=object)"
            ]
          },
          "metadata": {
            "tags": []
          },
          "execution_count": 121
        }
      ]
    },
    {
      "cell_type": "markdown",
      "metadata": {
        "id": "BAQf9X-7ucqw"
      },
      "source": [
        "# Encoding the text label into numbers"
      ]
    },
    {
      "cell_type": "code",
      "metadata": {
        "colab": {
          "base_uri": "https://localhost:8080/"
        },
        "id": "Fb2hUvecyo9p",
        "outputId": "4e178b09-4a7c-4ad5-a518-fb92f1d2dfb9"
      },
      "source": [
        "from sklearn.preprocessing import LabelEncoder\n",
        "\n",
        "encoder=LabelEncoder()\n",
        "y_train=encoder.fit_transform(y_train)\n",
        "y_train[:10]"
      ],
      "execution_count": 122,
      "outputs": [
        {
          "output_type": "stream",
          "text": [
            "/usr/local/lib/python3.6/dist-packages/sklearn/preprocessing/_label.py:251: DataConversionWarning: A column-vector y was passed when a 1d array was expected. Please change the shape of y to (n_samples, ), for example using ravel().\n",
            "  y = column_or_1d(y, warn=True)\n"
          ],
          "name": "stderr"
        },
        {
          "output_type": "execute_result",
          "data": {
            "text/plain": [
              "array([6, 6, 6, 6, 6, 6, 6, 6, 6, 6])"
            ]
          },
          "metadata": {
            "tags": []
          },
          "execution_count": 122
        }
      ]
    },
    {
      "cell_type": "markdown",
      "metadata": {
        "id": "VeHC1x6IuqkY"
      },
      "source": [
        "# Splitting the data"
      ]
    },
    {
      "cell_type": "code",
      "metadata": {
        "colab": {
          "base_uri": "https://localhost:8080/"
        },
        "id": "r9NbT7FqzRh1",
        "outputId": "d6597257-1c74-4872-962d-116e8466e256"
      },
      "source": [
        "def train_test_split(X, y, split_size=0.8):\n",
        "    split= int(len(X) * split_size)\n",
        "    print(split)\n",
        "    train_x = X[:split]\n",
        "    train_y = y[:split]\n",
        "    test_x = X[split:]\n",
        "    test_y = y[split:]\n",
        "    return train_x, test_x, train_y, test_y\n",
        "\n",
        "x_train,x_test,y_train, y_test =train_test_split(x_train, y_train)\n",
        "\n",
        "print(\"X_train shape \", x_train.shape)\n",
        "print(\"Y train shape \", y_train.shape)\n",
        "print(\"X_test shape \", x_test.shape)\n",
        "print(\"y_test shape \", y_test.shape)"
      ],
      "execution_count": 123,
      "outputs": [
        {
          "output_type": "stream",
          "text": [
            "1008000\n",
            "X_train shape  (1008000, 9)\n",
            "Y train shape  (1008000,)\n",
            "X_test shape  (252000, 9)\n",
            "y_test shape  (252000,)\n"
          ],
          "name": "stdout"
        }
      ]
    },
    {
      "cell_type": "markdown",
      "metadata": {
        "id": "pg7DK09W2f1q"
      },
      "source": [
        "# Converting data into time series"
      ]
    },
    {
      "cell_type": "code",
      "metadata": {
        "id": "qR4gZDzX1Y-W"
      },
      "source": [
        "from tensorflow.keras.models import Sequential\n",
        "from tensorflow.keras.layers import Dense,Flatten,LSTM\n",
        "from tensorflow.keras.regularizers import l2\n",
        "from tensorflow.keras.optimizers import Adam\n",
        "import tensorflow as tf\n"
      ],
      "execution_count": 124,
      "outputs": []
    },
    {
      "cell_type": "markdown",
      "metadata": {
        "id": "Jvn4A0jGvJdP"
      },
      "source": [
        "# **Converting** to time series Tx= 100"
      ]
    },
    {
      "cell_type": "code",
      "metadata": {
        "id": "oV6hvvEszvrq"
      },
      "source": [
        "\n",
        "from keras.preprocessing.sequence import TimeseriesGenerator\n",
        "\n",
        "n_time_steps = 100\n",
        "n_features = 9\n",
        "\n",
        "train_gen = TimeseriesGenerator(x_train.to_numpy(), y_train, length=n_time_steps, batch_size=1024)\n",
        "test_gen = TimeseriesGenerator(x_test.to_numpy(), y_test, length=n_time_steps, batch_size=1024)"
      ],
      "execution_count": 125,
      "outputs": []
    },
    {
      "cell_type": "markdown",
      "metadata": {
        "id": "nPBqEQuBwSUK"
      },
      "source": [
        "# Building Model "
      ]
    },
    {
      "cell_type": "code",
      "metadata": {
        "colab": {
          "base_uri": "https://localhost:8080/"
        },
        "id": "6deC3GZx3x2P",
        "outputId": "cac214b0-c1d2-4e9d-fae3-ab32029f5816"
      },
      "source": [
        "model=Sequential()\n",
        "model.add(LSTM(32, return_sequences=True, input_shape = (n_time_steps, n_features),\n",
        "              kernel_regularizer = l2(0.000001), bias_regularizer = l2(0.000001), name='lstm_1'))\n",
        "model.add(Flatten(name='flatten'))\n",
        "model.add(Dense(64, activation='relu',kernel_regularizer = l2(0.000001), bias_regularizer = l2(0.000001), name='dense_1' ))\n",
        "model.add(Dense(len(np.unique(y_train)), activation='softmax', \n",
        "                kernel_regularizer = l2(0.000001), bias_regularizer = l2(0.000001), name='output'))\n",
        "model.summary()"
      ],
      "execution_count": 126,
      "outputs": [
        {
          "output_type": "stream",
          "text": [
            "Model: \"sequential_1\"\n",
            "_________________________________________________________________\n",
            "Layer (type)                 Output Shape              Param #   \n",
            "=================================================================\n",
            "lstm_1 (LSTM)                (None, 100, 32)           5376      \n",
            "_________________________________________________________________\n",
            "flatten (Flatten)            (None, 3200)              0         \n",
            "_________________________________________________________________\n",
            "dense_1 (Dense)              (None, 64)                204864    \n",
            "_________________________________________________________________\n",
            "output (Dense)               (None, 7)                 455       \n",
            "=================================================================\n",
            "Total params: 210,695\n",
            "Trainable params: 210,695\n",
            "Non-trainable params: 0\n",
            "_________________________________________________________________\n"
          ],
          "name": "stdout"
        }
      ]
    },
    {
      "cell_type": "code",
      "metadata": {
        "id": "5uveD5jw37DA"
      },
      "source": [
        "model.compile(loss='sparse_categorical_crossentropy', optimizer=Adam(), metrics=['accuracy'])"
      ],
      "execution_count": 127,
      "outputs": []
    },
    {
      "cell_type": "code",
      "metadata": {
        "id": "kv3lI4sA4OAz"
      },
      "source": [
        "from keras.callbacks import ModelCheckpoint\n",
        "\n",
        "callbacks= [ModelCheckpoint('model.h5', save_weights_only=False, save_best_only=True, verbose=1)]"
      ],
      "execution_count": 128,
      "outputs": []
    },
    {
      "cell_type": "markdown",
      "metadata": {
        "id": "71JIB4Luwgam"
      },
      "source": [
        "# Training and saving best trained model in model.h5"
      ]
    },
    {
      "cell_type": "code",
      "metadata": {
        "colab": {
          "base_uri": "https://localhost:8080/"
        },
        "id": "kooZMszF4RCP",
        "outputId": "54d96de1-0568-4a59-a313-c5fbf50ca013"
      },
      "source": [
        "history = model.fit(train_gen, epochs=5, validation_data=test_gen, callbacks=callbacks)"
      ],
      "execution_count": 129,
      "outputs": [
        {
          "output_type": "stream",
          "text": [
            "Epoch 1/5\n",
            "985/985 [==============================] - 14s 13ms/step - loss: 0.8010 - accuracy: 0.7381 - val_loss: 0.0652 - val_accuracy: 0.9879\n",
            "\n",
            "Epoch 00001: val_loss improved from inf to 0.06521, saving model to model.h5\n",
            "Epoch 2/5\n",
            "985/985 [==============================] - 12s 12ms/step - loss: 0.1135 - accuracy: 0.9738 - val_loss: 0.0594 - val_accuracy: 0.9891\n",
            "\n",
            "Epoch 00002: val_loss improved from 0.06521 to 0.05937, saving model to model.h5\n",
            "Epoch 3/5\n",
            "985/985 [==============================] - 12s 12ms/step - loss: 0.0518 - accuracy: 0.9880 - val_loss: 0.1677 - val_accuracy: 0.9579\n",
            "\n",
            "Epoch 00003: val_loss did not improve from 0.05937\n",
            "Epoch 4/5\n",
            "985/985 [==============================] - 12s 12ms/step - loss: 0.0642 - accuracy: 0.9859 - val_loss: 0.0431 - val_accuracy: 0.9896\n",
            "\n",
            "Epoch 00004: val_loss improved from 0.05937 to 0.04314, saving model to model.h5\n",
            "Epoch 5/5\n",
            "985/985 [==============================] - 12s 12ms/step - loss: 0.0339 - accuracy: 0.9925 - val_loss: 0.0330 - val_accuracy: 0.9925\n",
            "\n",
            "Epoch 00005: val_loss improved from 0.04314 to 0.03296, saving model to model.h5\n"
          ],
          "name": "stdout"
        }
      ]
    },
    {
      "cell_type": "markdown",
      "metadata": {
        "id": "rdV_pfqjxE8d"
      },
      "source": [
        "# Loading the model.h5 and Saving as SavedModel format"
      ]
    },
    {
      "cell_type": "code",
      "metadata": {
        "id": "N5y5i8Dw4W2g",
        "colab": {
          "base_uri": "https://localhost:8080/"
        },
        "outputId": "37ed3726-eab7-465a-8217-b7bc26573c83"
      },
      "source": [
        "from tensorflow.keras.models import load_model\n",
        "model=load_model('model.h5')\n",
        "model.summary()\n",
        "model.save(\"model\")"
      ],
      "execution_count": 130,
      "outputs": [
        {
          "output_type": "stream",
          "text": [
            "Model: \"sequential_1\"\n",
            "_________________________________________________________________\n",
            "Layer (type)                 Output Shape              Param #   \n",
            "=================================================================\n",
            "lstm_1 (LSTM)                (None, 100, 32)           5376      \n",
            "_________________________________________________________________\n",
            "flatten (Flatten)            (None, 3200)              0         \n",
            "_________________________________________________________________\n",
            "dense_1 (Dense)              (None, 64)                204864    \n",
            "_________________________________________________________________\n",
            "output (Dense)               (None, 7)                 455       \n",
            "=================================================================\n",
            "Total params: 210,695\n",
            "Trainable params: 210,695\n",
            "Non-trainable params: 0\n",
            "_________________________________________________________________\n"
          ],
          "name": "stdout"
        },
        {
          "output_type": "stream",
          "text": [
            "WARNING:absl:Found untraced functions such as lstm_cell_5_layer_call_fn, lstm_cell_5_layer_call_and_return_conditional_losses, lstm_cell_5_layer_call_fn, lstm_cell_5_layer_call_and_return_conditional_losses, lstm_cell_5_layer_call_and_return_conditional_losses while saving (showing 5 of 5). These functions will not be directly callable after loading.\n",
            "WARNING:absl:Found untraced functions such as lstm_cell_5_layer_call_fn, lstm_cell_5_layer_call_and_return_conditional_losses, lstm_cell_5_layer_call_fn, lstm_cell_5_layer_call_and_return_conditional_losses, lstm_cell_5_layer_call_and_return_conditional_losses while saving (showing 5 of 5). These functions will not be directly callable after loading.\n"
          ],
          "name": "stderr"
        },
        {
          "output_type": "stream",
          "text": [
            "INFO:tensorflow:Assets written to: model/assets\n"
          ],
          "name": "stdout"
        },
        {
          "output_type": "stream",
          "text": [
            "INFO:tensorflow:Assets written to: model/assets\n"
          ],
          "name": "stderr"
        }
      ]
    },
    {
      "cell_type": "markdown",
      "metadata": {
        "id": "iFTgHNiTyIkg"
      },
      "source": [
        "# Loading the SavedModel and test the accuracy"
      ]
    },
    {
      "cell_type": "code",
      "metadata": {
        "colab": {
          "base_uri": "https://localhost:8080/"
        },
        "id": "8aR1SQk4gBHS",
        "outputId": "6f72781c-7285-473e-8153-e253b89c019f"
      },
      "source": [
        "model=load_model('model')\n",
        "model.summary()\n",
        "loss, acc = model.evaluate(test_gen, verbose=2)\n",
        "print(\"Restored model, accuracy: {:5.2f}%\".format(100 * acc))"
      ],
      "execution_count": 131,
      "outputs": [
        {
          "output_type": "stream",
          "text": [
            "Model: \"sequential_1\"\n",
            "_________________________________________________________________\n",
            "Layer (type)                 Output Shape              Param #   \n",
            "=================================================================\n",
            "lstm_1 (LSTM)                (None, 100, 32)           5376      \n",
            "_________________________________________________________________\n",
            "flatten (Flatten)            (None, 3200)              0         \n",
            "_________________________________________________________________\n",
            "dense_1 (Dense)              (None, 64)                204864    \n",
            "_________________________________________________________________\n",
            "output (Dense)               (None, 7)                 455       \n",
            "=================================================================\n",
            "Total params: 210,695\n",
            "Trainable params: 210,695\n",
            "Non-trainable params: 0\n",
            "_________________________________________________________________\n",
            "246/246 - 2s - loss: 0.0330 - accuracy: 0.9925\n",
            "Restored model, accuracy: 99.25%\n"
          ],
          "name": "stdout"
        }
      ]
    },
    {
      "cell_type": "markdown",
      "metadata": {
        "id": "vxM4vhbDAMFI"
      },
      "source": [
        "# Converting to TF lite model for android"
      ]
    },
    {
      "cell_type": "code",
      "metadata": {
        "id": "M_wPWnpLAcxM",
        "colab": {
          "base_uri": "https://localhost:8080/"
        },
        "outputId": "a6b6362f-0af5-458e-de15-75fb1c66afaa"
      },
      "source": [
        "tf_converter = tf.lite.TFLiteConverter.from_keras_model(model)\n",
        "tflit_model = tf_converter.convert()"
      ],
      "execution_count": 132,
      "outputs": [
        {
          "output_type": "stream",
          "text": [
            "WARNING:absl:Found untraced functions such as lstm_cell_6_layer_call_fn, lstm_cell_6_layer_call_and_return_conditional_losses, lstm_cell_6_layer_call_fn, lstm_cell_6_layer_call_and_return_conditional_losses, lstm_cell_6_layer_call_and_return_conditional_losses while saving (showing 5 of 5). These functions will not be directly callable after loading.\n",
            "WARNING:absl:Found untraced functions such as lstm_cell_6_layer_call_fn, lstm_cell_6_layer_call_and_return_conditional_losses, lstm_cell_6_layer_call_fn, lstm_cell_6_layer_call_and_return_conditional_losses, lstm_cell_6_layer_call_and_return_conditional_losses while saving (showing 5 of 5). These functions will not be directly callable after loading.\n"
          ],
          "name": "stderr"
        },
        {
          "output_type": "stream",
          "text": [
            "INFO:tensorflow:Assets written to: /tmp/tmpcqakrfkm/assets\n"
          ],
          "name": "stdout"
        },
        {
          "output_type": "stream",
          "text": [
            "INFO:tensorflow:Assets written to: /tmp/tmpcqakrfkm/assets\n"
          ],
          "name": "stderr"
        }
      ]
    },
    {
      "cell_type": "code",
      "metadata": {
        "colab": {
          "base_uri": "https://localhost:8080/"
        },
        "id": "ztnsq3DK_uLc",
        "outputId": "9426c7b1-3894-4df2-a50a-d53b85055a89"
      },
      "source": [
        "open(\"model.tflite\",\"wb\").write(tflit_model)"
      ],
      "execution_count": 133,
      "outputs": [
        {
          "output_type": "execute_result",
          "data": {
            "text/plain": [
              "853344"
            ]
          },
          "metadata": {
            "tags": []
          },
          "execution_count": 133
        }
      ]
    },
    {
      "cell_type": "code",
      "metadata": {
        "id": "KHCy0dSkAGt8",
        "colab": {
          "base_uri": "https://localhost:8080/",
          "height": 478
        },
        "outputId": "85336abf-1d26-4a60-a5f5-71994897d009"
      },
      "source": [
        "print( \"Input Shape :\" +str(model.input_shape))\n",
        "\n",
        "print(\"Generate predictions for 100 samples\")\n",
        "predictions =[]\n",
        "n_of_sample = 100\n",
        "for i in range(1,n_of_sample*100,100):\n",
        "  testSequence = x_test[i:i+100]\n",
        "  prob = model.predict(tf.reshape(testSequence,[1,100,9]))\n",
        "  predictions.append(np.argmax(prob))\n",
        "\n",
        "\n",
        "labels = encoder.inverse_transform(predictions)\n",
        "\n",
        "\n",
        "  \n",
        "# Creating histogram \n",
        "fig, ax = plt.subplots(figsize =(10, 7)) \n",
        "ax.hist(labels, bins = [1,2 , 3, 4, 5,6,7] ,color =[\"orange\"]) \n",
        "  \n",
        "# show plot \n",
        "plt.title(\"Predictions\")\n",
        "# plt.legend()\n",
        "plt.show() \n",
        "\n",
        "# for val in predictions:\n",
        "  # print(\"Prediction :\"+val)\n"
      ],
      "execution_count": 167,
      "outputs": [
        {
          "output_type": "stream",
          "text": [
            "Input Shape :(None, 100, 9)\n",
            "Generate predictions for 100 samples\n"
          ],
          "name": "stdout"
        },
        {
          "output_type": "display_data",
          "data": {
            "image/png": "[encoded data removed]",
            "text/plain": [
              "<Figure size 720x504 with 1 Axes>"
            ]
          },
          "metadata": {
            "tags": [],
            "needs_background": "light"
          }
        }
      ]
    },
    {
      "cell_type": "code",
      "metadata": {
        "colab": {
          "base_uri": "https://localhost:8080/"
        },
        "id": "AboZ1bhuUdlO",
        "outputId": "4f5ff5f1-49d8-434a-da20-f8d2bdf17e6f"
      },
      "source": [
        ""
      ],
      "execution_count": 86,
      "outputs": [
        {
          "output_type": "stream",
          "text": [
            "(None, 100, 9)\n",
            "(100, 100, 9)\n"
          ],
          "name": "stdout"
        }
      ]
    },
    {
      "cell_type": "code",
      "metadata": {
        "colab": {
          "base_uri": "https://localhost:8080/"
        },
        "id": "su6fZLr7UhM1",
        "outputId": "a18d69ac-7bd7-4132-e333-0008963bbfda"
      },
      "source": [
        "from sklearn.preprocessing import LabelEncoder\n",
        "\n",
        "encoder=LabelEncoder()\n",
        "\n",
        "array = [\"a\",\"b\",\"c\",\"d\"]\n",
        "array= encoder.fit_transform(array)\n",
        "# print(encoder.classes_)\n",
        "\n",
        "print(array)\n",
        "# y_train[:10]\n",
        "print(encoder.inverse_transform([1,2,3]))"
      ],
      "execution_count": 84,
      "outputs": [
        {
          "output_type": "stream",
          "text": [
            "[0 1 2 3]\n",
            "['b' 'c' 'd']\n"
          ],
          "name": "stdout"
        }
      ]
    },
    {
      "cell_type": "code",
      "metadata": {
        "id": "tmsxFG3XZ0nE"
      },
      "source": [
        ""
      ],
      "execution_count": null,
      "outputs": []
    }
  ]
}